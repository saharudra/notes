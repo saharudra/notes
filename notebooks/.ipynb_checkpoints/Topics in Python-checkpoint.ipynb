{
 "cells": [
  {
   "cell_type": "markdown",
   "metadata": {},
   "source": [
    "## Overview\n",
    "\n",
    "* Python is compiled into byte-code before being interpreted by the interpreter, unlike C where the code is directly converted from high level code (hlc) to machine code.\n",
    "\n",
    "`pythonic-code (hlc) ---(python compiler)---> byte-code ---(python interpreter)---> machine code`\n",
    "\n",
    "* During the compilation of pythonic-code to byte-code, basic checks viz syntax checks are done.\n",
    "* The byte-code is converted to machine code by the interpreter and executed line-by-line.\n",
    "    * Python specific interpreters are needed in the devices for them to be able to execute pythonic code e.g. in mobile devices"
   ]
  },
  {
   "cell_type": "code",
   "execution_count": 12,
   "metadata": {},
   "outputs": [],
   "source": [
    "class Dog:\n",
    "    def __init__(self):\n",
    "        self.bark()"
   ]
  },
  {
   "cell_type": "markdown",
   "metadata": {},
   "source": [
    "During the compilation of the above snippet, python won't have an issue even though `self.bark()` hasn't been defined. This is something strictly compiled languages won't allow. Since the compilation step above is only doing syntax checks, it will not understand that a piece of code is valid or not unless that particular logic is being hit during compilation. \n",
    "\n",
    "The method `self.bark()`, even though not defined, is not being hit during run-time thus not causing any error."
   ]
  },
  {
   "cell_type": "code",
   "execution_count": 17,
   "metadata": {},
   "outputs": [],
   "source": [
    "class Dog:\n",
    "    def __init__(self):\n",
    "        self.bark()\n",
    "        \n",
    "new_dog = Dog()"
   ]
  },
  {
   "cell_type": "markdown",
   "metadata": {},
   "source": [
    "The above snippet errors out as during run time, the instantiation of an object for the class Dog will hit `self.bark()` giving the error."
   ]
  },
  {
   "cell_type": "code",
   "execution_count": 23,
   "metadata": {},
   "outputs": [
    {
     "name": "stdout",
     "output_type": "stream",
     "text": [
      "<class '__main__.make_class.<locals>.Dog'>\n",
      "moti\n",
      "10\n"
     ]
    }
   ],
   "source": [
    "def make_class(x):\n",
    "    class Dog:\n",
    "        def __init__(self, name):\n",
    "            self.name = name\n",
    "        \n",
    "        def print_value(self):\n",
    "            print(x)\n",
    "        # Here we're returning 'Dog' which is a reference to the class and not an object of that class\n",
    "    return Dog\n",
    "    \n",
    "cls = make_class(10)\n",
    "print(cls)\n",
    "# Here cls is referencing a class and thus can be instantiated\n",
    "d = cls('moti')\n",
    "print(d.name)\n",
    "d.print_value()"
   ]
  },
  {
   "cell_type": "markdown",
   "metadata": {},
   "source": [
    "Even though this is strange, the python compiler would compile this to byte-code since there are no syntax errors. As the interpreter executes these statements line-by-line,  it doesn't see any errors.\n",
    "\n",
    "Also, here we have returned `Dog` which is a reference to the `class` and not an object of the class. This can be done in Python because the interpreter executes these line-by-line, each of the objects (variables, functions, class etc) are defined and stored in memory and thus can be referenced."
   ]
  },
  {
   "cell_type": "code",
   "execution_count": 25,
   "metadata": {},
   "outputs": [
    {
     "name": "stdout",
     "output_type": "stream",
     "text": [
      "0\n",
      "2\n",
      "4\n",
      "6\n",
      "8\n",
      "10\n",
      "12\n",
      "14\n",
      "16\n",
      "18\n",
      "Outside of for loop\n",
      "18\n"
     ]
    }
   ],
   "source": [
    "for i in range(10):\n",
    "    def show():\n",
    "        print(i*2)\n",
    "    \n",
    "    show()\n",
    "\n",
    "print('Outside of for loop')\n",
    "show()"
   ]
  },
  {
   "cell_type": "markdown",
   "metadata": {},
   "source": [
    "In the snipped above, the method `show()` gets over-written from memory in run-time during the execution of each of the `for` loop. The final version of the method stored in the memory is executed when it's being called outside the loop."
   ]
  },
  {
   "cell_type": "markdown",
   "metadata": {},
   "source": [
    "Calling the `id()` function on any of the objects in python gives out the location of that object in the memory. The `inspect` module provides several useful functions to help get information about live objects such as modules, classes, methods, functions, tracebacks, frame objects, and code objects. For example, it can help you examine the contents of a class (`inspect.getmembers()`), retrieve the source code of a method (`inspect.getsource()`), extract and format the argument list for a function, or get all the information you need to display a detailed traceback. \n",
    "\n",
    "Caveat: `inspect` doesn't work on builtin classes like `list, dict` etc."
   ]
  },
  {
   "cell_type": "code",
   "execution_count": 29,
   "metadata": {},
   "outputs": [
    {
     "name": "stdout",
     "output_type": "stream",
     "text": [
      "class Queue:\n",
      "    '''Create a queue object with a given maximum size.\n",
      "\n",
      "    If maxsize is <= 0, the queue size is infinite.\n",
      "    '''\n",
      "\n",
      "    def __init__(self, maxsize=0):\n",
      "        self.maxsize = maxsize\n",
      "        self._init(maxsize)\n",
      "\n",
      "        # mutex must be held whenever the queue is mutating.  All methods\n",
      "        # that acquire mutex must release it before returning.  mutex\n",
      "        # is shared between the three conditions, so acquiring and\n",
      "        # releasing the conditions also acquires and releases mutex.\n",
      "        self.mutex = threading.Lock()\n",
      "\n",
      "        # Notify not_empty whenever an item is added to the queue; a\n",
      "        # thread waiting to get is notified then.\n",
      "        self.not_empty = threading.Condition(self.mutex)\n",
      "\n",
      "        # Notify not_full whenever an item is removed from the queue;\n",
      "        # a thread waiting to put is notified then.\n",
      "        self.not_full = threading.Condition(self.mutex)\n",
      "\n",
      "        # Notify all_tasks_done whenever the number of unfinished tasks\n",
      "        # drops to zero; thread waiting to join() is notified to resume\n",
      "        self.all_tasks_done = threading.Condition(self.mutex)\n",
      "        self.unfinished_tasks = 0\n",
      "\n",
      "    def task_done(self):\n",
      "        '''Indicate that a formerly enqueued task is complete.\n",
      "\n",
      "        Used by Queue consumer threads.  For each get() used to fetch a task,\n",
      "        a subsequent call to task_done() tells the queue that the processing\n",
      "        on the task is complete.\n",
      "\n",
      "        If a join() is currently blocking, it will resume when all items\n",
      "        have been processed (meaning that a task_done() call was received\n",
      "        for every item that had been put() into the queue).\n",
      "\n",
      "        Raises a ValueError if called more times than there were items\n",
      "        placed in the queue.\n",
      "        '''\n",
      "        with self.all_tasks_done:\n",
      "            unfinished = self.unfinished_tasks - 1\n",
      "            if unfinished <= 0:\n",
      "                if unfinished < 0:\n",
      "                    raise ValueError('task_done() called too many times')\n",
      "                self.all_tasks_done.notify_all()\n",
      "            self.unfinished_tasks = unfinished\n",
      "\n",
      "    def join(self):\n",
      "        '''Blocks until all items in the Queue have been gotten and processed.\n",
      "\n",
      "        The count of unfinished tasks goes up whenever an item is added to the\n",
      "        queue. The count goes down whenever a consumer thread calls task_done()\n",
      "        to indicate the item was retrieved and all work on it is complete.\n",
      "\n",
      "        When the count of unfinished tasks drops to zero, join() unblocks.\n",
      "        '''\n",
      "        with self.all_tasks_done:\n",
      "            while self.unfinished_tasks:\n",
      "                self.all_tasks_done.wait()\n",
      "\n",
      "    def qsize(self):\n",
      "        '''Return the approximate size of the queue (not reliable!).'''\n",
      "        with self.mutex:\n",
      "            return self._qsize()\n",
      "\n",
      "    def empty(self):\n",
      "        '''Return True if the queue is empty, False otherwise (not reliable!).\n",
      "\n",
      "        This method is likely to be removed at some point.  Use qsize() == 0\n",
      "        as a direct substitute, but be aware that either approach risks a race\n",
      "        condition where a queue can grow before the result of empty() or\n",
      "        qsize() can be used.\n",
      "\n",
      "        To create code that needs to wait for all queued tasks to be\n",
      "        completed, the preferred technique is to use the join() method.\n",
      "        '''\n",
      "        with self.mutex:\n",
      "            return not self._qsize()\n",
      "\n",
      "    def full(self):\n",
      "        '''Return True if the queue is full, False otherwise (not reliable!).\n",
      "\n",
      "        This method is likely to be removed at some point.  Use qsize() >= n\n",
      "        as a direct substitute, but be aware that either approach risks a race\n",
      "        condition where a queue can shrink before the result of full() or\n",
      "        qsize() can be used.\n",
      "        '''\n",
      "        with self.mutex:\n",
      "            return 0 < self.maxsize <= self._qsize()\n",
      "\n",
      "    def put(self, item, block=True, timeout=None):\n",
      "        '''Put an item into the queue.\n",
      "\n",
      "        If optional args 'block' is true and 'timeout' is None (the default),\n",
      "        block if necessary until a free slot is available. If 'timeout' is\n",
      "        a non-negative number, it blocks at most 'timeout' seconds and raises\n",
      "        the Full exception if no free slot was available within that time.\n",
      "        Otherwise ('block' is false), put an item on the queue if a free slot\n",
      "        is immediately available, else raise the Full exception ('timeout'\n",
      "        is ignored in that case).\n",
      "        '''\n",
      "        with self.not_full:\n",
      "            if self.maxsize > 0:\n",
      "                if not block:\n",
      "                    if self._qsize() >= self.maxsize:\n",
      "                        raise Full\n",
      "                elif timeout is None:\n",
      "                    while self._qsize() >= self.maxsize:\n",
      "                        self.not_full.wait()\n",
      "                elif timeout < 0:\n",
      "                    raise ValueError(\"'timeout' must be a non-negative number\")\n",
      "                else:\n",
      "                    endtime = time() + timeout\n",
      "                    while self._qsize() >= self.maxsize:\n",
      "                        remaining = endtime - time()\n",
      "                        if remaining <= 0.0:\n",
      "                            raise Full\n",
      "                        self.not_full.wait(remaining)\n",
      "            self._put(item)\n",
      "            self.unfinished_tasks += 1\n",
      "            self.not_empty.notify()\n",
      "\n",
      "    def get(self, block=True, timeout=None):\n",
      "        '''Remove and return an item from the queue.\n",
      "\n",
      "        If optional args 'block' is true and 'timeout' is None (the default),\n",
      "        block if necessary until an item is available. If 'timeout' is\n",
      "        a non-negative number, it blocks at most 'timeout' seconds and raises\n",
      "        the Empty exception if no item was available within that time.\n",
      "        Otherwise ('block' is false), return an item if one is immediately\n",
      "        available, else raise the Empty exception ('timeout' is ignored\n",
      "        in that case).\n",
      "        '''\n",
      "        with self.not_empty:\n",
      "            if not block:\n",
      "                if not self._qsize():\n",
      "                    raise Empty\n",
      "            elif timeout is None:\n",
      "                while not self._qsize():\n",
      "                    self.not_empty.wait()\n",
      "            elif timeout < 0:\n",
      "                raise ValueError(\"'timeout' must be a non-negative number\")\n",
      "            else:\n",
      "                endtime = time() + timeout\n",
      "                while not self._qsize():\n",
      "                    remaining = endtime - time()\n",
      "                    if remaining <= 0.0:\n",
      "                        raise Empty\n",
      "                    self.not_empty.wait(remaining)\n",
      "            item = self._get()\n",
      "            self.not_full.notify()\n",
      "            return item\n",
      "\n",
      "    def put_nowait(self, item):\n",
      "        '''Put an item into the queue without blocking.\n",
      "\n",
      "        Only enqueue the item if a free slot is immediately available.\n",
      "        Otherwise raise the Full exception.\n",
      "        '''\n",
      "        return self.put(item, block=False)\n",
      "\n",
      "    def get_nowait(self):\n",
      "        '''Remove and return an item from the queue without blocking.\n",
      "\n",
      "        Only get an item if one is immediately available. Otherwise\n",
      "        raise the Empty exception.\n",
      "        '''\n",
      "        return self.get(block=False)\n",
      "\n",
      "    # Override these methods to implement other queue organizations\n",
      "    # (e.g. stack or priority queue).\n",
      "    # These will only be called with appropriate locks held\n",
      "\n",
      "    # Initialize the queue representation\n",
      "    def _init(self, maxsize):\n",
      "        self.queue = deque()\n",
      "\n",
      "    def _qsize(self):\n",
      "        return len(self.queue)\n",
      "\n",
      "    # Put a new item in the queue\n",
      "    def _put(self, item):\n",
      "        self.queue.append(item)\n",
      "\n",
      "    # Get an item from the queue\n",
      "    def _get(self):\n",
      "        return self.queue.popleft()\n",
      "\n",
      "[('__class__', <class 'type'>), ('__delattr__', <slot wrapper '__delattr__' of 'object' objects>), ('__dict__', mappingproxy({'__module__': 'queue', '__doc__': 'Create a queue object with a given maximum size.\\n\\n    If maxsize is <= 0, the queue size is infinite.\\n    ', '__init__': <function Queue.__init__ at 0x103ec80d0>, 'task_done': <function Queue.task_done at 0x103ec8158>, 'join': <function Queue.join at 0x103ec81e0>, 'qsize': <function Queue.qsize at 0x103ec8268>, 'empty': <function Queue.empty at 0x103ec82f0>, 'full': <function Queue.full at 0x103ec8378>, 'put': <function Queue.put at 0x103ec8400>, 'get': <function Queue.get at 0x103ec8488>, 'put_nowait': <function Queue.put_nowait at 0x103ec8510>, 'get_nowait': <function Queue.get_nowait at 0x103ec8598>, '_init': <function Queue._init at 0x103ec8620>, '_qsize': <function Queue._qsize at 0x103ec86a8>, '_put': <function Queue._put at 0x103ec8730>, '_get': <function Queue._get at 0x103ec87b8>, '__dict__': <attribute '__dict__' of 'Queue' objects>, '__weakref__': <attribute '__weakref__' of 'Queue' objects>})), ('__dir__', <method '__dir__' of 'object' objects>), ('__doc__', 'Create a queue object with a given maximum size.\\n\\n    If maxsize is <= 0, the queue size is infinite.\\n    '), ('__eq__', <slot wrapper '__eq__' of 'object' objects>), ('__format__', <method '__format__' of 'object' objects>), ('__ge__', <slot wrapper '__ge__' of 'object' objects>), ('__getattribute__', <slot wrapper '__getattribute__' of 'object' objects>), ('__gt__', <slot wrapper '__gt__' of 'object' objects>), ('__hash__', <slot wrapper '__hash__' of 'object' objects>), ('__init__', <function Queue.__init__ at 0x103ec80d0>), ('__init_subclass__', <built-in method __init_subclass__ of type object at 0x7ffbfb0a05c8>), ('__le__', <slot wrapper '__le__' of 'object' objects>), ('__lt__', <slot wrapper '__lt__' of 'object' objects>), ('__module__', 'queue'), ('__ne__', <slot wrapper '__ne__' of 'object' objects>), ('__new__', <built-in method __new__ of type object at 0x102849d30>), ('__reduce__', <method '__reduce__' of 'object' objects>), ('__reduce_ex__', <method '__reduce_ex__' of 'object' objects>), ('__repr__', <slot wrapper '__repr__' of 'object' objects>), ('__setattr__', <slot wrapper '__setattr__' of 'object' objects>), ('__sizeof__', <method '__sizeof__' of 'object' objects>), ('__str__', <slot wrapper '__str__' of 'object' objects>), ('__subclasshook__', <built-in method __subclasshook__ of type object at 0x7ffbfb0a05c8>), ('__weakref__', <attribute '__weakref__' of 'Queue' objects>), ('_get', <function Queue._get at 0x103ec87b8>), ('_init', <function Queue._init at 0x103ec8620>), ('_put', <function Queue._put at 0x103ec8730>), ('_qsize', <function Queue._qsize at 0x103ec86a8>), ('empty', <function Queue.empty at 0x103ec82f0>), ('full', <function Queue.full at 0x103ec8378>), ('get', <function Queue.get at 0x103ec8488>), ('get_nowait', <function Queue.get_nowait at 0x103ec8598>), ('join', <function Queue.join at 0x103ec81e0>), ('put', <function Queue.put at 0x103ec8400>), ('put_nowait', <function Queue.put_nowait at 0x103ec8510>), ('qsize', <function Queue.qsize at 0x103ec8268>), ('task_done', <function Queue.task_done at 0x103ec8158>)]\n"
     ]
    }
   ],
   "source": [
    "import inspect\n",
    "from queue import Queue\n",
    "\n",
    "# Retrieving the source code of class Queue\n",
    "print(inspect.getsource(Queue))\n",
    "\n",
    "# Retrieving information about the content of the class Queue\n",
    "print(inspect.getmembers(Queue))"
   ]
  },
  {
   "cell_type": "markdown",
   "metadata": {},
   "source": [
    "## Dunder/Magic Methods and The Python Data Model"
   ]
  },
  {
   "cell_type": "markdown",
   "metadata": {},
   "source": [
    "Double underscore methods or magic methods are part of the Python Data Model and are used to define specific functionalities on objects of the defined class by using special syntax. This is Python’s approach to operator overloading, allowing classes to define their own behavior with respect to language operators like addition, subtraction etc. \n",
    "\n",
    "For instance, if a class defines a method named `__getitem__()`, and `x` is an instance of this class, then `x[i]` is roughly equivalent to `type(x).__getitem__(x, i)`. Except where mentioned, attempts to execute an operation raise an exception when no appropriate method is defined (typically `AttributeError` or `TypeError`)."
   ]
  },
  {
   "cell_type": "code",
   "execution_count": 42,
   "metadata": {},
   "outputs": [
    {
     "name": "stdout",
     "output_type": "stream",
     "text": [
      "Person(tim)\n",
      "Person(timtimtimtim)\n",
      "Defining the call to objects of the given class 4\n"
     ]
    }
   ],
   "source": [
    "class Person:\n",
    "    def __init__(self, name):\n",
    "        self.name = name\n",
    "    \n",
    "    # __repr__ is a dunder method that defines the string representation of the object.\n",
    "    # Without this, it will give the memory location.\n",
    "    def __repr__(self):\n",
    "        return f\"Person({self.name})\"\n",
    "    \n",
    "    def __mul__(self, x):\n",
    "        if type(x) is not int:\n",
    "            raise Exception(\"Invalid type of argument, must be int\")\n",
    "        self.name *= x\n",
    "    \n",
    "    def __call__(self, y):\n",
    "        print('Defining the call to objects of the given class', y)\n",
    "\n",
    "p = Person('tim')\n",
    "print(p)\n",
    "p * 4\n",
    "print(p)\n",
    "p(4)"
   ]
  },
  {
   "cell_type": "markdown",
   "metadata": {},
   "source": []
  }
 ],
 "metadata": {
  "kernelspec": {
   "display_name": "Python 3",
   "language": "python",
   "name": "python3"
  },
  "language_info": {
   "codemirror_mode": {
    "name": "ipython",
    "version": 3
   },
   "file_extension": ".py",
   "mimetype": "text/x-python",
   "name": "python",
   "nbconvert_exporter": "python",
   "pygments_lexer": "ipython3",
   "version": "3.7.3"
  }
 },
 "nbformat": 4,
 "nbformat_minor": 4
}

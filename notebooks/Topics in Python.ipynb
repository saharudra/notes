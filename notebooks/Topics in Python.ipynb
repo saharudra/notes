{
 "cells": [
  {
   "cell_type": "markdown",
   "metadata": {},
   "source": [
    "## Overview\n",
    "\n",
    "* Python is compiled into byte-code before being interpreted by the interpreter.\n",
    "\n",
    "`pythonic-code ---(compiler)---> byte-code ---(python interpreter)---> machine code`\n",
    "\n",
    "* During the compilation of pythonic-code to byte-code, basic checks viz syntax checks are done.\n",
    "* The byte-code is converted to machine code by the interpreter and executed line-by-line.\n",
    "    * Python specific interpreters are needed in the devices for them to be able to execute pythonic code e.g. in mobile devices"
   ]
  },
  {
   "cell_type": "code",
   "execution_count": 3,
   "metadata": {},
   "outputs": [],
   "source": [
    "class Dog:\n",
    "    def __init__(self):\n",
    "        self.bark()"
   ]
  },
  {
   "cell_type": "markdown",
   "metadata": {},
   "source": [
    "During the compilation of the above snippet, python won't have an issue even though `self.bark()` hasn't been defined. This is something strictly compiled languages won't allow. Since the compilation step above is only doing syntax checks, it will not understand that a piece of code is valid or not unless that particular logic is being hit during compilation. "
   ]
  },
  {
   "cell_type": "code",
   "execution_count": 10,
   "metadata": {},
   "outputs": [],
   "source": [
    "class Dog:\n",
    "    def __init__(self):\n",
    "        self.bark()\n",
    "        \n",
    "new_dog = Dog()"
   ]
  },
  {
   "cell_type": "markdown",
   "metadata": {},
   "source": [
    "The above snippet will error out as during run time, the instantiation of an object for the class Dog will hit `self.bark()` giving the error."
   ]
  },
  {
   "cell_type": "code",
   "execution_count": null,
   "metadata": {},
   "outputs": [],
   "source": []
  }
 ],
 "metadata": {
  "kernelspec": {
   "display_name": "Python 3",
   "language": "python",
   "name": "python3"
  },
  "language_info": {
   "codemirror_mode": {
    "name": "ipython",
    "version": 3
   },
   "file_extension": ".py",
   "mimetype": "text/x-python",
   "name": "python",
   "nbconvert_exporter": "python",
   "pygments_lexer": "ipython3",
   "version": "3.7.3"
  }
 },
 "nbformat": 4,
 "nbformat_minor": 4
}

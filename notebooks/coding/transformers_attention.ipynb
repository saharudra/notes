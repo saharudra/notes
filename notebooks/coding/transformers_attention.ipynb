{
 "cells": [
  {
   "cell_type": "markdown",
   "metadata": {},
   "source": [
    "## Code Review: Transformers (Attention Is All You Need)\n"
   ]
  },
  {
   "cell_type": "markdown",
   "metadata": {},
   "source": [
    "### Transformers at a high level:\n",
    "* Can be thought of as attention to the extreme.\n",
    "    * Can be used as part of sequencing task and has replaced LSTMs generally.\n",
    "    * Has achieved SOTA in sequence-related tasks\n",
    "* Faster, scalable, more interpretable compared to RNN based models.\n",
    "    * Things are pretty much parallelized thus getting away the sequential computation of RNN based architecture."
   ]
  },
  {
   "cell_type": "markdown",
   "metadata": {},
   "source": [
    "### Overview\n",
    "* At a high level, it's an encoder-decoder architecture.\n",
    "* Input and output are vectors.\n",
    "    * Size has been set to 512 to simplify the structure.\n",
    "* Each encoder and decoder blocks are repeated 6 times in the original work.\n",
    "* Attention mechanism forms the bottleneck between the encoder and the decoder section.\n"
   ]
  },
  {
   "cell_type": "code",
   "execution_count": null,
   "metadata": {},
   "outputs": [],
   "source": []
  }
 ],
 "metadata": {
  "kernelspec": {
   "display_name": "Python 3",
   "language": "python",
   "name": "python3"
  },
  "language_info": {
   "codemirror_mode": {
    "name": "ipython",
    "version": 3
   },
   "file_extension": ".py",
   "mimetype": "text/x-python",
   "name": "python",
   "nbconvert_exporter": "python",
   "pygments_lexer": "ipython3",
   "version": "3.7.3"
  }
 },
 "nbformat": 4,
 "nbformat_minor": 4
}
